{
 "cells": [
  {
   "cell_type": "code",
   "execution_count": 2,
   "metadata": {},
   "outputs": [],
   "source": [
    "import numpy as np\n",
    "import matplotlib.pyplot as plt\n",
    "import pandas as pd"
   ]
  },
  {
   "cell_type": "code",
   "execution_count": 3,
   "metadata": {},
   "outputs": [],
   "source": [
    "data = np.loadtxt('datos_observacionales.dat')\n",
    "t = data[:,0]\n",
    "x = data[:,1]\n",
    "y = data[:,2]\n",
    "z = data[:,3]"
   ]
  },
  {
   "cell_type": "code",
   "execution_count": 15,
   "metadata": {},
   "outputs": [],
   "source": [
    "#Modelo fisico\n",
    "def model(x,y,z,t,params):\n",
    "    return 0\n",
    "\n",
    "def hamiltonian(x, y, z,t, params, momentum):\n",
    "    K = 0.5 * np.sum(momentum**2)\n",
    "    V = -loglikelihood(x, y, z, params)     \n",
    "    return K + V\n",
    "\n",
    "def loglikelihood(x, y, z,t, params):\n",
    "    d = y_obs -  model(x, y,z,params)\n",
    "    d = d\n",
    "    d = -0.5 * np.sum(d**2)\n",
    "    return d\n",
    "\n",
    "def logprior(params):\n",
    "    p = 0.0\n",
    "    n_param = len(params)\n",
    "    for i in range(n_params):\n",
    "        if params[i] < 30 and params[i]>0 :\n",
    "            p += 0.0\n",
    "        else:\n",
    "            p += np.inf\n",
    "    return p\n",
    "\n",
    "def leapfrog(x, y, z,t, params, momentum):\n",
    "    N_steps = 5\n",
    "    dt = 1E-2\n",
    "    m = 1\n",
    "    new_params = params.copy()\n",
    "    new_momentum = momentum.copy()\n",
    "    for i in range(N_steps):\n",
    "        new_momentum = new_momentum + div_loglikelihood(x, y, z, params) * 0.5 * dt\n",
    "        new_params = new_param + (new_momentum/m) * dt\n",
    "        new_momentum = new_momentum + div_loglikelihood(x, y, z, params) * 0.5 * dt\n",
    "    new_momentum = -new_momentum\n",
    "    return new_params, new_momentum\n",
    "\n",
    "def div_loglikelihood(x, y, z,t, params):\n",
    "    div = np.ones(len(params))\n",
    "    delta = 1E-5\n",
    "    for i in range(len(params)):\n",
    "        d_param = np.zeros(len(params))\n",
    "        d_param[i] = delta\n",
    "        div[i] = loglikelihood(x, y, z, params + d_param) \n",
    "        div[i] = div[i] - loglikelihood(x, y, z, params - d_param)\n",
    "        div[i] = div[i]/(2.0 * delta)\n",
    "    return div \n",
    "           "
   ]
  },
  {
   "cell_type": "code",
   "execution_count": 18,
   "metadata": {},
   "outputs": [],
   "source": [
    "N=5000\n",
    "def MCMC(x, y, z,t):\n",
    "    params = [np.random.random(3)]\n",
    "    momentum = [np.random.normal(size=3)]\n",
    "    for i in range(1,N):\n",
    "        propuesta_params, propuesta_momentum = leapfrog(x, y,z, params[i-1], momentum[i-1])\n",
    "        e_new = hamiltonian(x, y, z,propuesta_params, propuesta_momentum)\n",
    "        e_old = hamiltonian(x, y, z,params[i-1],momentum[i-1])\n",
    "   \n",
    "        r = min(1,np.exp(-(e_new - e_old)))\n",
    "        alpha = np.random.random()\n",
    "        if(alpha<r):\n",
    "            param.append(propuesta_params)\n",
    "        else:\n",
    "            param.append(params[i-1])\n",
    "        momentum.append(np.random.normal(size=3))    \n",
    "\n",
    "    params= np.array(params)\n",
    "    return params    "
   ]
  },
  {
   "cell_type": "code",
   "execution_count": null,
   "metadata": {},
   "outputs": [],
   "source": [
    "markov = MCMC(x,y,z,t)\n"
   ]
  },
  {
   "cell_type": "code",
   "execution_count": 10,
   "metadata": {},
   "outputs": [],
   "source": [
    "plt.plot(t,x)\n",
    "plt.title('x en funcion de t')\n",
    "plt.xlabel('t')\n",
    "plt.ylabel('x')\n",
    "plt.savefig('xvst.png')\n",
    "plt.close()"
   ]
  },
  {
   "cell_type": "code",
   "execution_count": 12,
   "metadata": {},
   "outputs": [],
   "source": [
    "plt.plot(t,y)\n",
    "plt.title('y en funcion de t')\n",
    "plt.xlabel('t')\n",
    "plt.ylabel('y')\n",
    "plt.savefig('yvst.png')\n",
    "plt.close()"
   ]
  },
  {
   "cell_type": "code",
   "execution_count": 13,
   "metadata": {},
   "outputs": [],
   "source": [
    "plt.plot(t,z)\n",
    "plt.title('z en funcion de t')\n",
    "plt.xlabel('t')\n",
    "plt.ylabel('z')\n",
    "plt.savefig('zvst.png')\n",
    "plt.close()"
   ]
  },
  {
   "cell_type": "code",
   "execution_count": null,
   "metadata": {},
   "outputs": [],
   "source": []
  }
 ],
 "metadata": {
  "kernelspec": {
   "display_name": "Python 3",
   "language": "python",
   "name": "python3"
  },
  "language_info": {
   "codemirror_mode": {
    "name": "ipython",
    "version": 3
   },
   "file_extension": ".py",
   "mimetype": "text/x-python",
   "name": "python",
   "nbconvert_exporter": "python",
   "pygments_lexer": "ipython3",
   "version": "3.5.2"
  }
 },
 "nbformat": 4,
 "nbformat_minor": 2
}
