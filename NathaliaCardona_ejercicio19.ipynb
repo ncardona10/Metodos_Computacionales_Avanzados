{
 "cells": [
  {
   "cell_type": "code",
   "execution_count": 186,
   "metadata": {},
   "outputs": [],
   "source": [
    "import numpy as np\n",
    "import  matplotlib.pyplot as plt\n",
    "import pandas as pd\n",
    "import sklearn.linear_model\n",
    "import sklearn.model_selection\n",
    "from sklearn.discriminant_analysis import LinearDiscriminantAnalysis\n",
    "from sklearn.metrics import confusion_matrix\n",
    "from sklearn.metrics import roc_curve\n",
    "from sklearn import metrics\n",
    "import itertools as it\n",
    "from sklearn.metrics import f1_score \n",
    "from sklearn.model_selection import cross_val_score\n",
    "from sklearn.tree import DecisionTreeRegressor\n",
    "from sklearn.model_selection import train_test_split\n",
    "from sklearn.metrics import mean_squared_error\n",
    "from sklearn import tree\n",
    "%matplotlib inline"
   ]
  },
  {
   "cell_type": "markdown",
   "metadata": {},
   "source": [
    "# Parte 1"
   ]
  },
  {
   "cell_type": "code",
   "execution_count": 187,
   "metadata": {},
   "outputs": [],
   "source": [
    "hitters = pd.read_csv('Hitters.csv')\n",
    "hitters = hitters.dropna(subset = ['Salary'])\n",
    "hitters['logSalary'] = np.log(hitters.Salary)\n",
    "test, train = train_test_split(hitters,test_size = 0.50)"
   ]
  },
  {
   "cell_type": "code",
   "execution_count": 188,
   "metadata": {},
   "outputs": [],
   "source": [
    "x_features = ['Hits','HmRun','Runs','RBI','Walks','Years','PutOuts','Assists','Errors']\n",
    "x_train = train[x_features]\n",
    "x_test = test[x_features]\n",
    "y_train = train.logSalary\n",
    "y_test = test.logSalary"
   ]
  },
  {
   "cell_type": "code",
   "execution_count": 189,
   "metadata": {},
   "outputs": [],
   "source": [
    "alphas = np.linspace(2,10,9)\n",
    "CV_train = np.ones(len(alphas))\n",
    "CV_val = np.ones(len(alphas))\n",
    "CV_test = np.ones(len(alphas))\n",
    "\n",
    "std_train = np.ones(len(alphas))\n",
    "std_val = np.ones(len(alphas))\n",
    "std_test = np.ones(len(alphas))\n",
    "\n",
    "for alpha in range(len(alphas)):    \n",
    "    rtd = DecisionTreeRegressor(max_depth = int(alphas[alpha]))\n",
    "    #cross validation \n",
    "    \n",
    "    k = 6\n",
    "\n",
    "    MSE_train = np.ones(k)\n",
    "    MSE_val = np.ones(k)\n",
    "    MSE_test = np.ones(k)\n",
    "    e_train = 0\n",
    "    e_val = 0\n",
    "    e_test = 0\n",
    "\n",
    "    for itera in range(k):\n",
    "        \n",
    "        x = np.array(x_train)\n",
    "        y = np.array(y_train)   \n",
    "        kx = np.array_split(x,k)\n",
    "        ky = np.array_split(y,k)\n",
    "        xout = kx.pop(itera)\n",
    "        yout = ky.pop(itera)\n",
    "        rtd = rtd.fit(np.concatenate(kx),np.concatenate(ky))\n",
    "\n",
    "        predict_train = rtd.predict(np.concatenate(kx))\n",
    "        predict_val = rtd.predict(xout)\n",
    "        predict_test = rtd.predict(x_test)\n",
    "        \n",
    "        e_train = (np.concatenate(ky) - predict_train)**2\n",
    "        e_val = (yout - predict_val)**2\n",
    "        e_test = (y_test - predict_test)**2\n",
    "        \n",
    "        MSE_train[itera] = np.sum(e_train)/len(np.concatenate(ky))\n",
    "        MSE_val[itera] = np.sum(e_val)/len(yout)\n",
    "        MSE_test[itera] = np.sum(e_test)/len(y_test)\n",
    " \n",
    "        \n",
    "    CV_train[alpha] = np.sum(MSE_train)/k\n",
    "    CV_val[alpha] = np.sum(MSE_val)/k\n",
    "    CV_test[alpha] = np.sum(MSE_test)/k \n",
    "    std_train[alpha] = np.std(e_train)\n",
    "    std_val[alpha] = np.std(e_val)\n",
    "    std_test[alpha] = np.std(e_test)\n",
    "    \n",
    "    "
   ]
  },
  {
   "cell_type": "code",
   "execution_count": 199,
   "metadata": {},
   "outputs": [
    {
     "data": {
      "text/plain": [
       "<matplotlib.legend.Legend at 0x7fda4f4e6f28>"
      ]
     },
     "execution_count": 199,
     "metadata": {},
     "output_type": "execute_result"
    },
    {
     "data": {
      "image/png": "[encoded data removed]",
      "text/plain": [
       "<Figure size 432x288 with 1 Axes>"
      ]
     },
     "metadata": {},
     "output_type": "display_data"
    }
   ],
   "source": [
    "plt.errorbar(alphas,CV_val, yerr = std_val,label = 'Cross validation', c= 'green',capsize=5) \n",
    "plt.errorbar(alphas,CV_train, yerr = std_train,c = 'black', label = 'Training',capsize=5)\n",
    "plt.errorbar(alphas,CV_test, yerr = std_test,c = 'darkorange', label = 'Test',capsize=5)\n",
    "plt.xlabel('Tree size')\n",
    "plt.ylabel('Mean Squared Error')\n",
    "plt.legend()"
   ]
  },
  {
   "cell_type": "code",
   "execution_count": 211,
   "metadata": {},
   "outputs": [],
   "source": [
    "from sklearn.tree import DecisionTreeClassifier"
   ]
  },
  {
   "cell_type": "code",
   "execution_count": 209,
   "metadata": {},
   "outputs": [],
   "source": [
    "cleveland = pd.read_csv('processed.cleveland.data',header=None)\n",
    "labels = ['age','sex','cp','trestbps','chol','fbs ','restecg', 'thalach','exang','oldpeak', 'slope', 'ca', 'thal', 'num' ]\n",
    "cleveland.columns = labels\n",
    "test, train = train_test_split(cleveland,test_size = 0.50)"
   ]
  },
  {
   "cell_type": "code",
   "execution_count": 210,
   "metadata": {},
   "outputs": [],
   "source": [
    "x_features = ['age','sex','cp','trestbps','chol','fbs ','restecg', 'thalach','exang','oldpeak', 'slope', 'ca', 'thal']\n",
    "x_train = train[x_features]\n",
    "x_test = test[x_features]\n",
    "y_train = train.num\n",
    "y_test = test.num"
   ]
  },
  {
   "cell_type": "code",
   "execution_count": 212,
   "metadata": {},
   "outputs": [
    {
     "ename": "ValueError",
     "evalue": "could not convert string to float: '?'",
     "output_type": "error",
     "traceback": [
      "\u001b[0;31m---------------------------------------------------------------------------\u001b[0m",
      "\u001b[0;31mValueError\u001b[0m                                Traceback (most recent call last)",
      "\u001b[0;32m<ipython-input-212-07e325a0a1fe>\u001b[0m in \u001b[0;36m<module>\u001b[0;34m()\u001b[0m\n\u001b[1;32m     29\u001b[0m         \u001b[0mxout\u001b[0m \u001b[0;34m=\u001b[0m \u001b[0mkx\u001b[0m\u001b[0;34m.\u001b[0m\u001b[0mpop\u001b[0m\u001b[0;34m(\u001b[0m\u001b[0mitera\u001b[0m\u001b[0;34m)\u001b[0m\u001b[0;34m\u001b[0m\u001b[0m\n\u001b[1;32m     30\u001b[0m         \u001b[0myout\u001b[0m \u001b[0;34m=\u001b[0m \u001b[0mky\u001b[0m\u001b[0;34m.\u001b[0m\u001b[0mpop\u001b[0m\u001b[0;34m(\u001b[0m\u001b[0mitera\u001b[0m\u001b[0;34m)\u001b[0m\u001b[0;34m\u001b[0m\u001b[0m\n\u001b[0;32m---> 31\u001b[0;31m         \u001b[0mrtd\u001b[0m \u001b[0;34m=\u001b[0m \u001b[0mrtd\u001b[0m\u001b[0;34m.\u001b[0m\u001b[0mfit\u001b[0m\u001b[0;34m(\u001b[0m\u001b[0mnp\u001b[0m\u001b[0;34m.\u001b[0m\u001b[0mconcatenate\u001b[0m\u001b[0;34m(\u001b[0m\u001b[0mkx\u001b[0m\u001b[0;34m)\u001b[0m\u001b[0;34m,\u001b[0m\u001b[0mnp\u001b[0m\u001b[0;34m.\u001b[0m\u001b[0mconcatenate\u001b[0m\u001b[0;34m(\u001b[0m\u001b[0mky\u001b[0m\u001b[0;34m)\u001b[0m\u001b[0;34m)\u001b[0m\u001b[0;34m\u001b[0m\u001b[0m\n\u001b[0m\u001b[1;32m     32\u001b[0m \u001b[0;34m\u001b[0m\u001b[0m\n\u001b[1;32m     33\u001b[0m         \u001b[0mpredict_train\u001b[0m \u001b[0;34m=\u001b[0m \u001b[0mrtd\u001b[0m\u001b[0;34m.\u001b[0m\u001b[0mpredict\u001b[0m\u001b[0;34m(\u001b[0m\u001b[0mnp\u001b[0m\u001b[0;34m.\u001b[0m\u001b[0mconcatenate\u001b[0m\u001b[0;34m(\u001b[0m\u001b[0mkx\u001b[0m\u001b[0;34m)\u001b[0m\u001b[0;34m)\u001b[0m\u001b[0;34m\u001b[0m\u001b[0m\n",
      "\u001b[0;32m~/anaconda3/lib/python3.6/site-packages/sklearn/tree/tree.py\u001b[0m in \u001b[0;36mfit\u001b[0;34m(self, X, y, sample_weight, check_input, X_idx_sorted)\u001b[0m\n\u001b[1;32m   1122\u001b[0m             \u001b[0msample_weight\u001b[0m\u001b[0;34m=\u001b[0m\u001b[0msample_weight\u001b[0m\u001b[0;34m,\u001b[0m\u001b[0;34m\u001b[0m\u001b[0m\n\u001b[1;32m   1123\u001b[0m             \u001b[0mcheck_input\u001b[0m\u001b[0;34m=\u001b[0m\u001b[0mcheck_input\u001b[0m\u001b[0;34m,\u001b[0m\u001b[0;34m\u001b[0m\u001b[0m\n\u001b[0;32m-> 1124\u001b[0;31m             X_idx_sorted=X_idx_sorted)\n\u001b[0m\u001b[1;32m   1125\u001b[0m         \u001b[0;32mreturn\u001b[0m \u001b[0mself\u001b[0m\u001b[0;34m\u001b[0m\u001b[0m\n\u001b[1;32m   1126\u001b[0m \u001b[0;34m\u001b[0m\u001b[0m\n",
      "\u001b[0;32m~/anaconda3/lib/python3.6/site-packages/sklearn/tree/tree.py\u001b[0m in \u001b[0;36mfit\u001b[0;34m(self, X, y, sample_weight, check_input, X_idx_sorted)\u001b[0m\n\u001b[1;32m    114\u001b[0m         \u001b[0mrandom_state\u001b[0m \u001b[0;34m=\u001b[0m \u001b[0mcheck_random_state\u001b[0m\u001b[0;34m(\u001b[0m\u001b[0mself\u001b[0m\u001b[0;34m.\u001b[0m\u001b[0mrandom_state\u001b[0m\u001b[0;34m)\u001b[0m\u001b[0;34m\u001b[0m\u001b[0m\n\u001b[1;32m    115\u001b[0m         \u001b[0;32mif\u001b[0m \u001b[0mcheck_input\u001b[0m\u001b[0;34m:\u001b[0m\u001b[0;34m\u001b[0m\u001b[0m\n\u001b[0;32m--> 116\u001b[0;31m             \u001b[0mX\u001b[0m \u001b[0;34m=\u001b[0m \u001b[0mcheck_array\u001b[0m\u001b[0;34m(\u001b[0m\u001b[0mX\u001b[0m\u001b[0;34m,\u001b[0m \u001b[0mdtype\u001b[0m\u001b[0;34m=\u001b[0m\u001b[0mDTYPE\u001b[0m\u001b[0;34m,\u001b[0m \u001b[0maccept_sparse\u001b[0m\u001b[0;34m=\u001b[0m\u001b[0;34m\"csc\"\u001b[0m\u001b[0;34m)\u001b[0m\u001b[0;34m\u001b[0m\u001b[0m\n\u001b[0m\u001b[1;32m    117\u001b[0m             \u001b[0my\u001b[0m \u001b[0;34m=\u001b[0m \u001b[0mcheck_array\u001b[0m\u001b[0;34m(\u001b[0m\u001b[0my\u001b[0m\u001b[0;34m,\u001b[0m \u001b[0mensure_2d\u001b[0m\u001b[0;34m=\u001b[0m\u001b[0;32mFalse\u001b[0m\u001b[0;34m,\u001b[0m \u001b[0mdtype\u001b[0m\u001b[0;34m=\u001b[0m\u001b[0;32mNone\u001b[0m\u001b[0;34m)\u001b[0m\u001b[0;34m\u001b[0m\u001b[0m\n\u001b[1;32m    118\u001b[0m             \u001b[0;32mif\u001b[0m \u001b[0missparse\u001b[0m\u001b[0;34m(\u001b[0m\u001b[0mX\u001b[0m\u001b[0;34m)\u001b[0m\u001b[0;34m:\u001b[0m\u001b[0;34m\u001b[0m\u001b[0m\n",
      "\u001b[0;32m~/anaconda3/lib/python3.6/site-packages/sklearn/utils/validation.py\u001b[0m in \u001b[0;36mcheck_array\u001b[0;34m(array, accept_sparse, dtype, order, copy, force_all_finite, ensure_2d, allow_nd, ensure_min_samples, ensure_min_features, warn_on_dtype, estimator)\u001b[0m\n\u001b[1;32m    431\u001b[0m                                       force_all_finite)\n\u001b[1;32m    432\u001b[0m     \u001b[0;32melse\u001b[0m\u001b[0;34m:\u001b[0m\u001b[0;34m\u001b[0m\u001b[0m\n\u001b[0;32m--> 433\u001b[0;31m         \u001b[0marray\u001b[0m \u001b[0;34m=\u001b[0m \u001b[0mnp\u001b[0m\u001b[0;34m.\u001b[0m\u001b[0marray\u001b[0m\u001b[0;34m(\u001b[0m\u001b[0marray\u001b[0m\u001b[0;34m,\u001b[0m \u001b[0mdtype\u001b[0m\u001b[0;34m=\u001b[0m\u001b[0mdtype\u001b[0m\u001b[0;34m,\u001b[0m \u001b[0morder\u001b[0m\u001b[0;34m=\u001b[0m\u001b[0morder\u001b[0m\u001b[0;34m,\u001b[0m \u001b[0mcopy\u001b[0m\u001b[0;34m=\u001b[0m\u001b[0mcopy\u001b[0m\u001b[0;34m)\u001b[0m\u001b[0;34m\u001b[0m\u001b[0m\n\u001b[0m\u001b[1;32m    434\u001b[0m \u001b[0;34m\u001b[0m\u001b[0m\n\u001b[1;32m    435\u001b[0m         \u001b[0;32mif\u001b[0m \u001b[0mensure_2d\u001b[0m\u001b[0;34m:\u001b[0m\u001b[0;34m\u001b[0m\u001b[0m\n",
      "\u001b[0;31mValueError\u001b[0m: could not convert string to float: '?'"
     ]
    }
   ],
   "source": [
    "alphas = np.linspace(2,10,9)\n",
    "CV_train = np.ones(len(alphas))\n",
    "CV_val = np.ones(len(alphas))\n",
    "CV_test = np.ones(len(alphas))\n",
    "\n",
    "std_train = np.ones(len(alphas))\n",
    "std_val = np.ones(len(alphas))\n",
    "std_test = np.ones(len(alphas))\n",
    "\n",
    "for alpha in range(len(alphas)):    \n",
    "    dtc = DecisionTreeClassifier(max_depth = int(alphas[alpha]))\n",
    "    #k-fold\n",
    "    \n",
    "    k = 6\n",
    "\n",
    "    MSE_train = np.ones(k)\n",
    "    MSE_val = np.ones(k)\n",
    "    MSE_test = np.ones(k)\n",
    "    e_train = 0\n",
    "    e_val = 0\n",
    "    e_test = 0\n",
    "\n",
    "    for itera in range(k):\n",
    "        \n",
    "        x = np.array(x_train)\n",
    "        y = np.array(y_train)   \n",
    "        kx = np.array_split(x,k)\n",
    "        ky = np.array_split(y,k)\n",
    "        xout = kx.pop(itera)\n",
    "        yout = ky.pop(itera)\n",
    "        rtd = rtd.fit(np.concatenate(kx),np.concatenate(ky))\n",
    "\n",
    "        predict_train = rtd.predict(np.concatenate(kx))\n",
    "        predict_val = rtd.predict(xout)\n",
    "        predict_test = rtd.predict(x_test)\n",
    "        \n",
    "        #Gini index\n",
    "        \n",
    "        e_train = (np.concatenate(ky) - predict_train)**2\n",
    "        e_val = (yout - predict_val)**2\n",
    "        e_test = (y_test - predict_test)**2\n",
    "        \n",
    "        MSE_train[itera] = np.sum(e_train)/len(np.concatenate(ky))\n",
    "        MSE_val[itera] = np.sum(e_val)/len(yout)\n",
    "        MSE_test[itera] = np.sum(e_test)/len(y_test)\n",
    " \n",
    "        \n",
    "    CV_train[alpha] = np.sum(MSE_train)/k\n",
    "    CV_val[alpha] = np.sum(MSE_val)/k\n",
    "    CV_test[alpha] = np.sum(MSE_test)/k \n",
    "    std_train[alpha] = np.std(e_train)\n",
    "    std_val[alpha] = np.std(e_val)\n",
    "    std_test[alpha] = np.std(e_test)\n",
    "    \n",
    "    "
   ]
  },
  {
   "cell_type": "code",
   "execution_count": null,
   "metadata": {},
   "outputs": [],
   "source": [
    "plt.errorbar(alphas,CV_val, yerr = std_val,label = 'Cross validation', c= 'green',capsize=5) \n",
    "plt.errorbar(alphas,CV_train, yerr = std_train,c = 'black', label = 'Training',capsize=5)\n",
    "plt.errorbar(alphas,CV_test, yerr = std_test,c = 'darkorange', label = 'Test',capsize=5)\n",
    "plt.xlabel('Tree size')\n",
    "plt.ylabel('Error')\n",
    "plt.legend()"
   ]
  },
  {
   "cell_type": "markdown",
   "metadata": {},
   "source": [
    "# Parte 2"
   ]
  },
  {
   "cell_type": "code",
   "execution_count": 231,
   "metadata": {},
   "outputs": [],
   "source": [
    "oj = pd.read_csv('OJ.csv')\n",
    "oj['purchaseNum'] = list(map(lambda x : 1 if x==\"CH\" else 0 , oj.Purchase))\n",
    "test, train = train_test_split(oj,test_size = 0.50)\n",
    "x_features = ['WeekofPurchase','StoreID','PriceCH','PriceMM','DiscCH','DiscMM','SpecialCH','SpecialMM','LoyalCH',\n",
    "              'SalePriceMM','SalePriceCH','PriceDiff', 'PctDiscMM','PctDiscCH','ListPriceDiff','STORE']\n",
    "x_train = train[x_features]\n",
    "y_train = train.purchaseNum\n",
    "x_test = train[x_features]\n",
    "y_test = train.purchaseNum\n",
    "#target: CH, purchase =1. MM, purchase =0"
   ]
  },
  {
   "cell_type": "code",
   "execution_count": 250,
   "metadata": {},
   "outputs": [],
   "source": [
    "alphas = np.linspace(2,10,9)\n",
    "CV_train = np.ones(len(alphas))\n",
    "CV_val = np.ones(len(alphas))\n",
    "CV_test = np.ones(len(alphas))\n",
    "\n",
    "std_train = np.ones(len(alphas))\n",
    "std_val = np.ones(len(alphas))\n",
    "std_test = np.ones(len(alphas))\n",
    "\n",
    "for alpha in range(len(alphas)):    \n",
    "    dtc = DecisionTreeClassifier(max_depth = int(alphas[alpha]))\n",
    "    #k-fold\n",
    "    \n",
    "    k = 6\n",
    "\n",
    "    MSE_train = np.ones(k)\n",
    "    MSE_val = np.ones(k)\n",
    "    MSE_test = np.ones(k)\n",
    "    e_train = 0\n",
    "    e_val = 0\n",
    "    e_test = 0\n",
    "\n",
    "    for itera in range(k):\n",
    "        \n",
    "        x = np.array(x_train)\n",
    "        y = np.array(y_train)   \n",
    "        kx = np.array_split(x,k)\n",
    "        ky = np.array_split(y,k)\n",
    "        xout = kx.pop(itera)\n",
    "        yout = ky.pop(itera)\n",
    "        rtd = rtd.fit(np.concatenate(kx),np.concatenate(ky))\n",
    "\n",
    "        predict_train = rtd.predict(np.concatenate(kx))\n",
    "        predict_val = rtd.predict(xout)\n",
    "        predict_test = rtd.predict(x_test)\n",
    "        \n",
    "        #Gini index\n",
    "        \n",
    "        e_train = (np.concatenate(ky) - predict_train)**2\n",
    "        e_val = (yout - predict_val)**2\n",
    "        e_test = (y_test - predict_test)**2\n",
    "        \n",
    "        MSE_train[itera] = np.sum(e_train)/len(np.concatenate(ky))\n",
    "        MSE_val[itera] = np.sum(e_val)/len(yout)\n",
    "        MSE_test[itera] = np.sum(e_test)/len(y_test)\n",
    " \n",
    "        \n",
    "    CV_train[alpha] = np.sum(MSE_train)/k\n",
    "    CV_val[alpha] = np.sum(MSE_val)/k\n",
    "    CV_test[alpha] = np.sum(MSE_test)/k \n",
    "    std_train[alpha] = np.std(e_train)\n",
    "    std_val[alpha] = np.std(e_val)\n",
    "    std_test[alpha] = np.std(e_test) "
   ]
  },
  {
   "cell_type": "code",
   "execution_count": null,
   "metadata": {},
   "outputs": [],
   "source": [
    "plt.plot(precision_lr, recall_lr, label = 'LR')\n",
    "plt.plot(precision_lda, recall_lda, label = 'LDA')\n",
    "plt.legend()\n",
    "plt.xlabel('Recall')\n",
    "plt.ylabel('Precision')\n",
    "plt.title('Recall-precision curve')"
   ]
  },
  {
   "cell_type": "code",
   "execution_count": null,
   "metadata": {},
   "outputs": [],
   "source": []
  }
 ],
 "metadata": {
  "kernelspec": {
   "display_name": "Python 3",
   "language": "python",
   "name": "python3"
  },
  "language_info": {
   "codemirror_mode": {
    "name": "ipython",
    "version": 3
   },
   "file_extension": ".py",
   "mimetype": "text/x-python",
   "name": "python",
   "nbconvert_exporter": "python",
   "pygments_lexer": "ipython3",
   "version": "3.6.5"
  }
 },
 "nbformat": 4,
 "nbformat_minor": 2
}
